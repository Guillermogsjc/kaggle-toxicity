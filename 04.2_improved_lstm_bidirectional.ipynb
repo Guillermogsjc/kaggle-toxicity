{
 "cells": [
  {
   "cell_type": "markdown",
   "metadata": {
    "_cell_guid": "9d2dbdb3-6c74-4f96-9865-2951dfd653ce",
    "_uuid": "bb41ad86b25fecf332927b0c8f55dd710101e33f"
   },
   "source": [
    "# Improved LSTM baseline\n",
    "\n",
    "This kernel is a somewhat improved version of [Keras - Bidirectional LSTM baseline](https://www.kaggle.com/CVxTz/keras-bidirectional-lstm-baseline-lb-0-051) along with some additional documentation of the steps. (NB: this notebook has been re-run on the new test set.)"
   ]
  },
  {
   "cell_type": "code",
   "execution_count": 1,
   "metadata": {
    "ExecuteTime": {
     "end_time": "2018-02-17T20:03:42.332323Z",
     "start_time": "2018-02-17T20:03:41.434906Z"
    },
    "_cell_guid": "2f9b7a76-8625-443d-811f-8f49781aef81",
    "_uuid": "598f965bc881cfe6605d92903b758778d400fa8b"
   },
   "outputs": [
    {
     "name": "stderr",
     "output_type": "stream",
     "text": [
      "Using TensorFlow backend.\n"
     ]
    }
   ],
   "source": [
    "import sys, os, re, csv, codecs, time, numpy as np, pandas as pd\n",
    "\n",
    "from keras.callbacks import EarlyStopping, ModelCheckpoint, ReduceLROnPlateau\n",
    "from kaggletoxicity.keras_utils import KaggleToxicityValMetric\n",
    "from keras.preprocessing.text import Tokenizer\n",
    "from keras.preprocessing.sequence import pad_sequences\n",
    "from keras.layers import Dense, Input, LSTM, Embedding, Dropout, Activation\n",
    "from keras.layers import Bidirectional, GlobalMaxPool1D\n",
    "from keras.models import Model\n",
    "from keras import initializers, regularizers, constraints, optimizers, layers\n",
    "import constants as ct"
   ]
  },
  {
   "cell_type": "markdown",
   "metadata": {
    "_cell_guid": "c297fa80-beea-464b-ac90-f380ebdb02fe",
    "_uuid": "d961885dfde18796893922f72ade1bf64456404e"
   },
   "source": [
    "We include the GloVe word vectors in our input files. To include these in your kernel, simple click 'input files' at the top of the notebook, and search 'glove' in the 'datasets' section."
   ]
  },
  {
   "cell_type": "code",
   "execution_count": 2,
   "metadata": {
    "ExecuteTime": {
     "end_time": "2018-02-17T20:03:42.335813Z",
     "start_time": "2018-02-17T20:03:42.333482Z"
    },
    "_cell_guid": "66a6b5fd-93f0-4f95-ad62-3253815059ba",
    "_uuid": "729b0f0c2a02c678631b8c072d62ff46146a82ef",
    "collapsed": true
   },
   "outputs": [],
   "source": [
    "EMBEDDING_FILE = os.path.join(ct.DATA_TOOLS_FOLDER, 'glove.6B.50d.txt')\n",
    "TRAIN_DATA_FILE = os.path.join(ct.DATA_FOLDER, 'train.csv')\n",
    "TEST_DATA_FILE = os.path.join(ct.DATA_FOLDER, 'test.csv')"
   ]
  },
  {
   "cell_type": "markdown",
   "metadata": {
    "_cell_guid": "98f2b724-7d97-4da8-8b22-52164463a942",
    "_uuid": "b62d39216c8d00b3e6b78b825212fd190757dff9"
   },
   "source": [
    "Set some basic config parameters:"
   ]
  },
  {
   "cell_type": "code",
   "execution_count": 3,
   "metadata": {
    "ExecuteTime": {
     "end_time": "2018-02-17T20:03:42.342024Z",
     "start_time": "2018-02-17T20:03:42.336791Z"
    },
    "_cell_guid": "2807a0a5-2220-4af6-92d6-4a7100307de2",
    "_uuid": "d365d5f8d9292bb9bf57d21d6186f8b619cbe8c3",
    "collapsed": true
   },
   "outputs": [],
   "source": [
    "embed_size = 50 # how big is each word vector\n",
    "max_features = 20000 # how many unique words to use (i.e num rows in embedding vector)\n",
    "maxlen = 500 # max number of words in a comment to use"
   ]
  },
  {
   "cell_type": "markdown",
   "metadata": {
    "_cell_guid": "b3a8d783-95c2-4819-9897-1320e3295183",
    "_uuid": "4dd8a02e7ef983f10ec9315721c6dda2958024af"
   },
   "source": [
    "Read in our data and replace missing values:"
   ]
  },
  {
   "cell_type": "code",
   "execution_count": 4,
   "metadata": {
    "ExecuteTime": {
     "end_time": "2018-02-17T20:03:43.281243Z",
     "start_time": "2018-02-17T20:03:42.343024Z"
    },
    "_cell_guid": "ac2e165b-1f6e-4e69-8acf-5ad7674fafc3",
    "_uuid": "8ab6dad952c65e9afcf16e43c4043179ef288780",
    "collapsed": true
   },
   "outputs": [],
   "source": [
    "train = pd.read_csv(TRAIN_DATA_FILE)\n",
    "test = pd.read_csv(TEST_DATA_FILE)\n",
    "\n",
    "list_sentences_train = train[\"comment_text\"].fillna(\"_na_\").values\n",
    "list_classes = [\"toxic\", \"severe_toxic\", \"obscene\", \"threat\", \"insult\", \"identity_hate\"]\n",
    "y = train[list_classes].values\n",
    "list_sentences_test = test[\"comment_text\"].fillna(\"_na_\").values"
   ]
  },
  {
   "cell_type": "markdown",
   "metadata": {
    "_cell_guid": "54a7a34e-6549-45f7-ada2-2173ff2ce5ea",
    "_uuid": "e8810c303980f41dbe0543e1c15d35acbdd8428f"
   },
   "source": [
    "Standard keras preprocessing, to turn each comment into a list of word indexes of equal length (with truncation or padding as needed)."
   ]
  },
  {
   "cell_type": "code",
   "execution_count": 5,
   "metadata": {
    "ExecuteTime": {
     "end_time": "2018-02-17T20:04:04.377960Z",
     "start_time": "2018-02-17T20:03:43.282518Z"
    },
    "_cell_guid": "79afc0e9-b5f0-42a2-9257-a72458e91dbb",
    "_uuid": "c292c2830522bfe59d281ecac19f3a9415c07155"
   },
   "outputs": [],
   "source": [
    "tokenizer = Tokenizer(num_words=max_features)\n",
    "tokenizer.fit_on_texts(list(list_sentences_train))\n",
    "list_tokenized_train = tokenizer.texts_to_sequences(list_sentences_train)\n",
    "list_tokenized_test = tokenizer.texts_to_sequences(list_sentences_test)\n",
    "X_t = pad_sequences(list_tokenized_train, maxlen=maxlen)\n",
    "X_te = pad_sequences(list_tokenized_test, maxlen=maxlen)"
   ]
  },
  {
   "cell_type": "markdown",
   "metadata": {
    "_cell_guid": "f8c4f6a3-3a19-40b1-ad31-6df2690bec8a",
    "_uuid": "e1cb77629e35c2b5b28288b4d6048a86dda04d78"
   },
   "source": [
    "Read the glove word vectors (space delimited strings) into a dictionary from word->vector."
   ]
  },
  {
   "cell_type": "code",
   "execution_count": 6,
   "metadata": {
    "ExecuteTime": {
     "end_time": "2018-02-17T20:04:09.105699Z",
     "start_time": "2018-02-17T20:04:04.379136Z"
    },
    "_cell_guid": "7d19392b-7750-4a1b-ac30-ed75b8a62d52",
    "_uuid": "e9e3b4fa7c4658e0f22dd48cb1a289d9deb745fc",
    "collapsed": true
   },
   "outputs": [],
   "source": [
    "def get_coefs(word,*arr): return word, np.asarray(arr, dtype='float32')\n",
    "embeddings_index = dict(get_coefs(*o.strip().split()) for o in open(EMBEDDING_FILE))"
   ]
  },
  {
   "cell_type": "markdown",
   "metadata": {
    "_cell_guid": "7370416a-094a-4dc7-84fa-bdbf469f6579",
    "_uuid": "20cea54904ac1eece20874e9346905a59a604985"
   },
   "source": [
    "Use these vectors to create our embedding matrix, with random initialization for words that aren't in GloVe. We'll use the same mean and stdev of embeddings the GloVe has when generating the random init."
   ]
  },
  {
   "cell_type": "code",
   "execution_count": 7,
   "metadata": {
    "ExecuteTime": {
     "end_time": "2018-02-17T20:04:09.671497Z",
     "start_time": "2018-02-17T20:04:09.106765Z"
    },
    "_cell_guid": "4d29d827-377d-4d2f-8582-4a92f9569719",
    "_uuid": "96fc33012e7f07a2169a150c61574858d49a561b"
   },
   "outputs": [
    {
     "data": {
      "text/plain": [
       "(0.020940492, 0.64410442)"
      ]
     },
     "execution_count": 7,
     "metadata": {},
     "output_type": "execute_result"
    }
   ],
   "source": [
    "all_embs = np.stack(embeddings_index.values())\n",
    "emb_mean,emb_std = all_embs.mean(), all_embs.std()\n",
    "emb_mean,emb_std"
   ]
  },
  {
   "cell_type": "code",
   "execution_count": 8,
   "metadata": {
    "ExecuteTime": {
     "end_time": "2018-02-17T20:04:09.759280Z",
     "start_time": "2018-02-17T20:04:09.672487Z"
    },
    "_cell_guid": "62acac54-0495-4a26-ab63-2520d05b3e19",
    "_uuid": "574c91e270add444a7bc8175440274bdd83b7173"
   },
   "outputs": [],
   "source": [
    "word_index = tokenizer.word_index\n",
    "nb_words = min(max_features, len(word_index))\n",
    "embedding_matrix = np.random.normal(emb_mean, emb_std, (nb_words, embed_size))\n",
    "for word, i in word_index.items():\n",
    "    if i >= max_features: continue\n",
    "    embedding_vector = embeddings_index.get(word)\n",
    "    if embedding_vector is not None: embedding_matrix[i] = embedding_vector"
   ]
  },
  {
   "cell_type": "markdown",
   "metadata": {
    "_cell_guid": "f1aeec65-356e-4430-b99d-bb516ec90b09",
    "_uuid": "237345510bd2e664b5c6983a698d80bac2732bc4"
   },
   "source": [
    "Simple bidirectional LSTM with two fully connected layers. We add some dropout to the LSTM since even 2 epochs is enough to overfit."
   ]
  },
  {
   "cell_type": "code",
   "execution_count": 9,
   "metadata": {
    "ExecuteTime": {
     "end_time": "2018-02-17T20:04:10.646014Z",
     "start_time": "2018-02-17T20:04:09.760353Z"
    },
    "_cell_guid": "0d4cb718-7f9a-4eab-acda-8f55b4712439",
    "_uuid": "dc51af0bd046e1eccc29111a8e2d77bdf7c60d28",
    "collapsed": true
   },
   "outputs": [],
   "source": [
    "inp = Input(shape=(maxlen,))\n",
    "x = Embedding(max_features, embed_size, weights=[embedding_matrix])(inp)\n",
    "x = Bidirectional(LSTM(50, return_sequences=True, dropout=0.1, recurrent_dropout=0.1))(x)\n",
    "x = GlobalMaxPool1D()(x)\n",
    "x = Dense(50, activation=\"relu\")(x)\n",
    "x = Dropout(0.1)(x)\n",
    "x = Dense(6, activation=\"sigmoid\")(x)\n",
    "model = Model(inputs=inp, outputs=x)\n",
    "model.compile(loss='binary_crossentropy', optimizer='adam')"
   ]
  },
  {
   "cell_type": "markdown",
   "metadata": {
    "_cell_guid": "4a624b55-3720-42bc-ad5a-7cefc76d83f6",
    "_uuid": "e2a0e9ce12e1ff5ea102665e79de23df5caf5802"
   },
   "source": [
    "Now we're ready to fit out model! Use `validation_split` when not submitting."
   ]
  },
  {
   "cell_type": "code",
   "execution_count": 10,
   "metadata": {
    "ExecuteTime": {
     "end_time": "2018-02-17T20:04:10.649323Z",
     "start_time": "2018-02-17T20:04:10.647053Z"
    }
   },
   "outputs": [
    {
     "data": {
      "text/plain": [
       "(159571, 500)"
      ]
     },
     "execution_count": 10,
     "metadata": {},
     "output_type": "execute_result"
    }
   ],
   "source": [
    "X_t.shape"
   ]
  },
  {
   "cell_type": "code",
   "execution_count": 11,
   "metadata": {
    "ExecuteTime": {
     "end_time": "2018-02-17T21:49:07.523786Z",
     "start_time": "2018-02-17T20:04:10.650267Z"
    },
    "_cell_guid": "333626f1-a838-4fea-af99-0c78f1ef5f5c",
    "_uuid": "c1558c6b2802fc632edc4510c074555a590efbd8",
    "scrolled": false
   },
   "outputs": [
    {
     "name": "stdout",
     "output_type": "stream",
     "text": [
      "Train on 151592 samples, validate on 7979 samples\n",
      "Epoch 1/50\n",
      "151592/151592 [==============================] - 131s 865us/step - loss: 0.1486 - val_loss: 0.0680 - val_roc_auc: 0.9553\n",
      "Epoch 2/50\n",
      "151592/151592 [==============================] - 130s 859us/step - loss: 0.0602 - val_loss: 0.0528 - val_roc_auc: 0.9709\n",
      "Epoch 3/50\n",
      "151592/151592 [==============================] - 129s 854us/step - loss: 0.0526 - val_loss: 0.0495 - val_roc_auc: 0.9743\n",
      "Epoch 4/50\n",
      "151592/151592 [==============================] - 127s 835us/step - loss: 0.0488 - val_loss: 0.0483 - val_roc_auc: 0.9757\n",
      "Epoch 5/50\n",
      "151592/151592 [==============================] - 126s 834us/step - loss: 0.0466 - val_loss: 0.0472 - val_roc_auc: 0.9769\n",
      "Epoch 6/50\n",
      "151592/151592 [==============================] - 126s 830us/step - loss: 0.0455 - val_loss: 0.0466 - val_roc_auc: 0.9778\n",
      "Epoch 7/50\n",
      "151592/151592 [==============================] - 126s 832us/step - loss: 0.0446 - val_loss: 0.0462 - val_roc_auc: 0.9789\n",
      "Epoch 8/50\n",
      "151592/151592 [==============================] - 126s 830us/step - loss: 0.0439 - val_loss: 0.0454 - val_roc_auc: 0.9796\n",
      "Epoch 9/50\n",
      "151592/151592 [==============================] - 126s 830us/step - loss: 0.0431 - val_loss: 0.0453 - val_roc_auc: 0.9801\n",
      "Epoch 10/50\n",
      "151592/151592 [==============================] - 126s 829us/step - loss: 0.0423 - val_loss: 0.0450 - val_roc_auc: 0.9805\n",
      "Epoch 11/50\n",
      "151592/151592 [==============================] - 126s 830us/step - loss: 0.0416 - val_loss: 0.0449 - val_roc_auc: 0.9810\n",
      "Epoch 12/50\n",
      "151592/151592 [==============================] - 126s 830us/step - loss: 0.0413 - val_loss: 0.0448 - val_roc_auc: 0.9812\n",
      "Epoch 13/50\n",
      "151592/151592 [==============================] - 126s 830us/step - loss: 0.0410 - val_loss: 0.0445 - val_roc_auc: 0.9815\n",
      "Epoch 14/50\n",
      "151592/151592 [==============================] - 126s 830us/step - loss: 0.0405 - val_loss: 0.0446 - val_roc_auc: 0.9818\n",
      "Epoch 15/50\n",
      "151592/151592 [==============================] - 126s 829us/step - loss: 0.0403 - val_loss: 0.0445 - val_roc_auc: 0.9819\n",
      "Epoch 16/50\n",
      "151592/151592 [==============================] - 126s 829us/step - loss: 0.0400 - val_loss: 0.0446 - val_roc_auc: 0.9821\n",
      "Epoch 17/50\n",
      "151592/151592 [==============================] - 126s 829us/step - loss: 0.0396 - val_loss: 0.0444 - val_roc_auc: 0.9822\n",
      "Epoch 18/50\n",
      "151592/151592 [==============================] - 125s 827us/step - loss: 0.0396 - val_loss: 0.0443 - val_roc_auc: 0.9822\n",
      "Epoch 19/50\n",
      "151592/151592 [==============================] - 126s 828us/step - loss: 0.0394 - val_loss: 0.0444 - val_roc_auc: 0.9823\n",
      "Epoch 20/50\n",
      "151592/151592 [==============================] - 126s 829us/step - loss: 0.0390 - val_loss: 0.0446 - val_roc_auc: 0.9824\n",
      "Epoch 21/50\n",
      "151592/151592 [==============================] - 125s 827us/step - loss: 0.0389 - val_loss: 0.0446 - val_roc_auc: 0.9825\n",
      "Epoch 22/50\n",
      "151592/151592 [==============================] - 126s 828us/step - loss: 0.0388 - val_loss: 0.0445 - val_roc_auc: 0.9826\n",
      "Epoch 23/50\n",
      "151592/151592 [==============================] - 125s 826us/step - loss: 0.0387 - val_loss: 0.0444 - val_roc_auc: 0.9826\n",
      "Epoch 24/50\n",
      "151592/151592 [==============================] - 126s 829us/step - loss: 0.0385 - val_loss: 0.0443 - val_roc_auc: 0.9826\n",
      "Epoch 25/50\n",
      "151592/151592 [==============================] - 125s 827us/step - loss: 0.0384 - val_loss: 0.0445 - val_roc_auc: 0.9826\n",
      "Epoch 26/50\n",
      "151592/151592 [==============================] - 126s 830us/step - loss: 0.0383 - val_loss: 0.0444 - val_roc_auc: 0.9827\n",
      "Epoch 27/50\n",
      "151592/151592 [==============================] - 125s 827us/step - loss: 0.0381 - val_loss: 0.0443 - val_roc_auc: 0.9828\n",
      "Epoch 28/50\n",
      "151592/151592 [==============================] - 126s 829us/step - loss: 0.0379 - val_loss: 0.0443 - val_roc_auc: 0.9829\n",
      "Epoch 29/50\n",
      "151592/151592 [==============================] - 126s 828us/step - loss: 0.0379 - val_loss: 0.0443 - val_roc_auc: 0.9830\n",
      "Epoch 30/50\n",
      "151592/151592 [==============================] - 126s 828us/step - loss: 0.0379 - val_loss: 0.0443 - val_roc_auc: 0.9830\n",
      "Epoch 31/50\n",
      "151592/151592 [==============================] - 126s 828us/step - loss: 0.0376 - val_loss: 0.0443 - val_roc_auc: 0.9831\n",
      "Epoch 32/50\n",
      "151592/151592 [==============================] - 126s 828us/step - loss: 0.0376 - val_loss: 0.0443 - val_roc_auc: 0.9832\n",
      "Epoch 33/50\n",
      "151592/151592 [==============================] - 125s 827us/step - loss: 0.0374 - val_loss: 0.0443 - val_roc_auc: 0.9833\n",
      "Epoch 34/50\n",
      "151592/151592 [==============================] - 125s 828us/step - loss: 0.0372 - val_loss: 0.0444 - val_roc_auc: 0.9833\n",
      "Epoch 35/50\n",
      "151592/151592 [==============================] - 126s 829us/step - loss: 0.0372 - val_loss: 0.0444 - val_roc_auc: 0.9834\n",
      "Epoch 36/50\n",
      "151592/151592 [==============================] - 125s 826us/step - loss: 0.0372 - val_loss: 0.0445 - val_roc_auc: 0.9833\n",
      "Epoch 37/50\n",
      "151592/151592 [==============================] - 125s 827us/step - loss: 0.0369 - val_loss: 0.0444 - val_roc_auc: 0.9833\n",
      "Epoch 38/50\n",
      "151592/151592 [==============================] - 126s 830us/step - loss: 0.0369 - val_loss: 0.0445 - val_roc_auc: 0.9834\n",
      "Epoch 39/50\n",
      "151592/151592 [==============================] - 125s 828us/step - loss: 0.0368 - val_loss: 0.0445 - val_roc_auc: 0.9835\n",
      "Epoch 40/50\n",
      "151592/151592 [==============================] - 125s 827us/step - loss: 0.0367 - val_loss: 0.0445 - val_roc_auc: 0.9836\n",
      "Epoch 41/50\n",
      "151592/151592 [==============================] - 125s 827us/step - loss: 0.0366 - val_loss: 0.0444 - val_roc_auc: 0.9836\n",
      "Epoch 42/50\n",
      "151592/151592 [==============================] - 126s 828us/step - loss: 0.0364 - val_loss: 0.0444 - val_roc_auc: 0.9837\n",
      "Epoch 43/50\n",
      "151592/151592 [==============================] - 126s 828us/step - loss: 0.0363 - val_loss: 0.0446 - val_roc_auc: 0.9837\n",
      "Epoch 44/50\n",
      "151592/151592 [==============================] - 126s 828us/step - loss: 0.0362 - val_loss: 0.0447 - val_roc_auc: 0.9838\n",
      "Epoch 45/50\n",
      "151592/151592 [==============================] - 126s 828us/step - loss: 0.0361 - val_loss: 0.0446 - val_roc_auc: 0.9838\n",
      "Epoch 46/50\n",
      "151592/151592 [==============================] - 125s 827us/step - loss: 0.0358 - val_loss: 0.0445 - val_roc_auc: 0.9840\n",
      "Epoch 47/50\n",
      "151592/151592 [==============================] - 126s 829us/step - loss: 0.0359 - val_loss: 0.0447 - val_roc_auc: 0.9840\n",
      "Epoch 48/50\n",
      "151592/151592 [==============================] - 126s 829us/step - loss: 0.0358 - val_loss: 0.0445 - val_roc_auc: 0.9840\n",
      "Epoch 49/50\n",
      "151592/151592 [==============================] - 125s 827us/step - loss: 0.0356 - val_loss: 0.0444 - val_roc_auc: 0.9841\n",
      "Epoch 50/50\n",
      "151592/151592 [==============================] - 126s 828us/step - loss: 0.0354 - val_loss: 0.0446 - val_roc_auc: 0.9841\n"
     ]
    },
    {
     "data": {
      "text/plain": [
       "<keras.callbacks.History at 0x7facb83723c8>"
      ]
     },
     "execution_count": 11,
     "metadata": {},
     "output_type": "execute_result"
    }
   ],
   "source": [
    "batch_size = 1024\n",
    "epochs = 50\n",
    "val_prop = 0.05\n",
    "es_patience = 5\n",
    "rlr_patience = 2\n",
    "rlr_cooldown = 4\n",
    "\n",
    "file_path = os.path.join(ct.MODELS_FOLDER, \"weights_base_best.hdf5\")\n",
    "extraval = KaggleToxicityValMetric()\n",
    "early_stop = EarlyStopping(monitor='val_roc_auc', patience=es_patience, mode='max',  verbose=0)\n",
    "checkpoint = ModelCheckpoint(file_path, monitor='val_roc_auc', verbose=0, mode='max',   save_best_only=True)\n",
    "reduce_lr = ReduceLROnPlateau( monitor='val_roc_auc', \n",
    "                              factor=0.5, \n",
    "                              patience=rlr_patience, \n",
    "                              cooldown=rlr_cooldown, \n",
    "                              min_lr=1e-4)\n",
    "\n",
    "callbacks_list = [extraval, checkpoint, early_stop, reduce_lr]\n",
    "model.fit(X_t, y, batch_size=batch_size, epochs=epochs, validation_split=val_prop, callbacks=callbacks_list)"
   ]
  },
  {
   "cell_type": "markdown",
   "metadata": {
    "_cell_guid": "d6fa2ace-aa92-40cf-913f-a8f5d5a4b130",
    "_uuid": "3dbaa4d0c22271b8b0dc7e58bcad89ddc607beaf"
   },
   "source": [
    "And finally, get predictions for the test set and prepare a submission CSV:"
   ]
  },
  {
   "cell_type": "code",
   "execution_count": 12,
   "metadata": {
    "ExecuteTime": {
     "end_time": "2018-02-17T21:49:33.005485Z",
     "start_time": "2018-02-17T21:49:07.524885Z"
    }
   },
   "outputs": [
    {
     "name": "stdout",
     "output_type": "stream",
     "text": [
      "153164/153164 [==============================] - 25s 166us/step\n"
     ]
    }
   ],
   "source": [
    "model.load_weights(file_path)\n",
    "y_test = model.predict([X_te], batch_size=1024, verbose=1)"
   ]
  },
  {
   "cell_type": "code",
   "execution_count": 13,
   "metadata": {
    "ExecuteTime": {
     "end_time": "2018-02-17T21:49:33.099336Z",
     "start_time": "2018-02-17T21:49:33.006780Z"
    },
    "collapsed": true
   },
   "outputs": [],
   "source": [
    "sample_submission = pd.read_csv(os.path.join(ct.DATA_FOLDER, 'sample_submission.csv'))"
   ]
  },
  {
   "cell_type": "code",
   "execution_count": 14,
   "metadata": {
    "ExecuteTime": {
     "end_time": "2018-02-17T21:49:33.209924Z",
     "start_time": "2018-02-17T21:49:33.100534Z"
    },
    "_cell_guid": "28ce30e3-0f21-48e5-af3c-7e5512c9fbdc",
    "_uuid": "e59ad8a98ac5bb25a6bddd72718f3ed8a7fb52e0",
    "collapsed": true
   },
   "outputs": [],
   "source": [
    "sample_submission[list_classes] = y_test"
   ]
  },
  {
   "cell_type": "code",
   "execution_count": 15,
   "metadata": {
    "ExecuteTime": {
     "end_time": "2018-02-17T21:49:33.213631Z",
     "start_time": "2018-02-17T21:49:33.211171Z"
    }
   },
   "outputs": [
    {
     "data": {
      "text/plain": [
       "'2018_02_17_22_49'"
      ]
     },
     "execution_count": 15,
     "metadata": {},
     "output_type": "execute_result"
    }
   ],
   "source": [
    "moment = time.strftime(\"%Y_%m_%d_%H_%M\")\n",
    "moment"
   ]
  },
  {
   "cell_type": "code",
   "execution_count": 16,
   "metadata": {
    "ExecuteTime": {
     "end_time": "2018-02-17T21:49:34.661448Z",
     "start_time": "2018-02-17T21:49:33.214555Z"
    },
    "_cell_guid": "617e974a-57ee-436e-8484-0fb362306db2",
    "_uuid": "2b969bab77ab952ecd5abf2abe2596a0e23df251",
    "collapsed": true
   },
   "outputs": [],
   "source": [
    "file_name = 'results_%s.csv' % moment\n",
    "sample_submission.to_csv(os.path.join(ct.RESULTS_FOLDER, file_name), index=False)"
   ]
  }
 ],
 "metadata": {
  "hide_input": false,
  "kernelspec": {
   "display_name": "Python [conda root]",
   "language": "python",
   "name": "conda-root-py"
  },
  "language_info": {
   "codemirror_mode": {
    "name": "ipython",
    "version": 3
   },
   "file_extension": ".py",
   "mimetype": "text/x-python",
   "name": "python",
   "nbconvert_exporter": "python",
   "pygments_lexer": "ipython3",
   "version": "3.5.3"
  },
  "toc": {
   "colors": {
    "hover_highlight": "#DAA520",
    "navigate_num": "#000000",
    "navigate_text": "#333333",
    "running_highlight": "#FF0000",
    "selected_highlight": "#FFD700",
    "sidebar_border": "#EEEEEE",
    "wrapper_background": "#FFFFFF"
   },
   "moveMenuLeft": true,
   "nav_menu": {
    "height": "30px",
    "width": "252px"
   },
   "navigate_menu": true,
   "number_sections": true,
   "sideBar": true,
   "threshold": 4,
   "toc_cell": false,
   "toc_section_display": "block",
   "toc_window_display": false,
   "widenNotebook": false
  }
 },
 "nbformat": 4,
 "nbformat_minor": 1
}
