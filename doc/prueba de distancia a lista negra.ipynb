{
 "cells": [
  {
   "cell_type": "markdown",
   "metadata": {},
   "source": [
    "# Distancias a lista negra"
   ]
  },
  {
   "cell_type": "code",
   "execution_count": 1,
   "metadata": {},
   "outputs": [
    {
     "data": {
      "text/plain": [
       "0             DIMITRIOS PSYCHAS\n",
       "1                   Hajar Nabil\n",
       "2             Hardikkumar Patel\n",
       "3                   Kaba Karamo\n",
       "4               Kelountang Sana\n",
       "5             Kirichenko Olesya\n",
       "6               LOUKAS BITROVAS\n",
       "7    Luz Adriana Valencia Calle\n",
       "8                  Mrani Nawfel\n",
       "9              Oumaima Aerrache\n",
       "dtype: object"
      ]
     },
     "execution_count": 1,
     "metadata": {},
     "output_type": "execute_result"
    }
   ],
   "source": [
    "import pandas as pd\n",
    "import numpy as np\n",
    "from string_dists import bow_dist, dist_series_to_series, dist_string_to_series, dist_series_to_series_paralell\n",
    "\n",
    "pd.options.display.max_columns = 1000\n",
    "pd.options.display.float_format = '{:,.3f}'.format\n",
    "\n",
    "BLACK_LIST = pd.Series.from_csv('blacklist.csv', index_col=None)\n",
    "BLACK_LIST.head(10)"
   ]
  },
  {
   "cell_type": "markdown",
   "metadata": {},
   "source": [
    "Calculamos las distancias de un nombre con variaciones respecto a la lista negra. Observamos cómo cambia la distancia en bolsas de palabras según realizamos modificaciones.\n",
    "\n",
    "Las distancias se calculan:\n",
    "- Sin tener en cuenta mayúsculas y minúsculas\n",
    "- Sin tener en cuenta acentos\n",
    "- Sin tener en cuenta el orden de las palabras\n",
    "\n",
    "## Función de distancias y aplicación\n",
    "\n",
    "- `dist_string_to_series` toma una string y calcula su distancia a una pandas Series que tenga nombres (`dtype: object`). \n",
    "\n",
    "- En teoría en la Series estarían los valores de los ya reconocidos como fraudulentos. \n",
    "\n",
    "- **La función toma valores entre 0 (hay una coincidencia idéntica en la serie)  y 1 (hay que hacer tantas modificaciones como posiciones tiene la string para aproximarla a una palabra de la Series)**\n",
    "\n",
    "- Si el valor de la distancia de la string a la Series con los nombres de los fraudulentos es muy bajo (inferior a un umbral por establecer), se bloquea al usuario y la reserva"
   ]
  },
  {
   "cell_type": "code",
   "execution_count": 2,
   "metadata": {
    "collapsed": true
   },
   "outputs": [],
   "source": [
    "name_0 = 'DIMITRIOS PSYCHAS'\n",
    "name_1 = 'pSYCHAS DIMITRIOS'\n",
    "name_2 = 'PSYChas pIMITRIOS'\n",
    "name_3 = 'dimitrIos psYCas'\n",
    "name_4 = 'eimitris PsYCS'\n",
    "name_5 = 'qweqdasd qwesgrsads'"
   ]
  },
  {
   "cell_type": "code",
   "execution_count": 54,
   "metadata": {},
   "outputs": [
    {
     "data": {
      "text/plain": [
       "0.0"
      ]
     },
     "execution_count": 54,
     "metadata": {},
     "output_type": "execute_result"
    }
   ],
   "source": [
    "dist_string_to_series(name_0, BLACK_LIST)"
   ]
  },
  {
   "cell_type": "code",
   "execution_count": 55,
   "metadata": {},
   "outputs": [
    {
     "data": {
      "text/plain": [
       "0.0"
      ]
     },
     "execution_count": 55,
     "metadata": {},
     "output_type": "execute_result"
    }
   ],
   "source": [
    "dist_string_to_series(name_1, BLACK_LIST)"
   ]
  },
  {
   "cell_type": "code",
   "execution_count": 56,
   "metadata": {},
   "outputs": [
    {
     "data": {
      "text/plain": [
       "0.0625"
      ]
     },
     "execution_count": 56,
     "metadata": {},
     "output_type": "execute_result"
    }
   ],
   "source": [
    "dist_string_to_series(name_2, BLACK_LIST)"
   ]
  },
  {
   "cell_type": "code",
   "execution_count": 57,
   "metadata": {},
   "outputs": [
    {
     "data": {
      "text/plain": [
       "0.066666666666666666"
      ]
     },
     "execution_count": 57,
     "metadata": {},
     "output_type": "execute_result"
    }
   ],
   "source": [
    "dist_string_to_series(name_3, BLACK_LIST)"
   ]
  },
  {
   "cell_type": "code",
   "execution_count": 58,
   "metadata": {},
   "outputs": [
    {
     "data": {
      "text/plain": [
       "0.30769230769230771"
      ]
     },
     "execution_count": 58,
     "metadata": {},
     "output_type": "execute_result"
    }
   ],
   "source": [
    "dist_string_to_series(name_4, BLACK_LIST)"
   ]
  },
  {
   "cell_type": "code",
   "execution_count": 59,
   "metadata": {},
   "outputs": [
    {
     "data": {
      "text/plain": [
       "0.72222222222222221"
      ]
     },
     "execution_count": 59,
     "metadata": {},
     "output_type": "execute_result"
    }
   ],
   "source": [
    "dist_string_to_series(name_5, BLACK_LIST)"
   ]
  }
 ],
 "metadata": {
  "hide_input": false,
  "kernelspec": {
   "display_name": "Python [conda root]",
   "language": "python",
   "name": "conda-root-py"
  },
  "language_info": {
   "codemirror_mode": {
    "name": "ipython",
    "version": 3
   },
   "file_extension": ".py",
   "mimetype": "text/x-python",
   "name": "python",
   "nbconvert_exporter": "python",
   "pygments_lexer": "ipython3",
   "version": "3.5.3"
  },
  "toc": {
   "colors": {
    "hover_highlight": "#DAA520",
    "navigate_num": "#000000",
    "navigate_text": "#333333",
    "running_highlight": "#FF0000",
    "selected_highlight": "#FFD700",
    "sidebar_border": "#EEEEEE",
    "wrapper_background": "#FFFFFF"
   },
   "moveMenuLeft": true,
   "nav_menu": {
    "height": "48px",
    "width": "252px"
   },
   "navigate_menu": true,
   "number_sections": true,
   "sideBar": true,
   "threshold": 4,
   "toc_cell": false,
   "toc_section_display": "block",
   "toc_window_display": false,
   "widenNotebook": false
  }
 },
 "nbformat": 4,
 "nbformat_minor": 2
}
