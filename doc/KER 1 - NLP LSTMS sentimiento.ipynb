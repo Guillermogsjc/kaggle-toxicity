{
 "cells": [
  {
   "cell_type": "markdown",
   "metadata": {},
   "source": [
    "# Análisis de sentimiento de secuencias en Keras usando RNNs\n",
    "    \n",
    "   Vamos a ver un ejemplo de **secuencia a valor** de aplicación de LSTMs. Este consiste en clasificar las críticas de IMDB.\n",
    "   \n",
    "\n",
    "    \n",
    "### Cargamos el dataset imdb\",\n",
    "    \n",
    "`Keras` incorpora una utilidad de acceso a este data-set https://keras.io/datasets/#imdb-movie-reviews-sentiment-classification"
   ]
  },
  {
   "cell_type": "code",
   "execution_count": 1,
   "metadata": {},
   "outputs": [
    {
     "name": "stderr",
     "output_type": "stream",
     "text": [
      "Using TensorFlow backend.\n"
     ]
    }
   ],
   "source": [
    "import numpy as np\n",
    "import keras as kr\n",
    "import tensorflow as tf\n",
    "# tf.python.control_flow_ops = tf #esta línea evita un conflicto entre Kera y Tensorflow\n",
    "\n",
    "from keras.datasets import imdb\n",
    "from keras.models import Sequential\n",
    "from keras.layers import Dense\n",
    "from keras.layers import LSTM, GRU\n",
    "from keras.layers.embeddings import Embedding\n",
    "from keras.preprocessing import sequence\n",
    "\n",
    "np.random.seed(0)"
   ]
  },
  {
   "cell_type": "code",
   "execution_count": 2,
   "metadata": {},
   "outputs": [
    {
     "data": {
      "text/plain": [
       "'2.0.9'"
      ]
     },
     "execution_count": 2,
     "metadata": {},
     "output_type": "execute_result"
    }
   ],
   "source": [
    "kr.__version__"
   ]
  },
  {
   "cell_type": "markdown",
   "metadata": {},
   "source": [
    "        ?imdb.load_data()\n",
    "\n",
    "        imdb.load_data(path='imdb_full.pkl', nb_words=None, skip_top=0, maxlen=None, seed=113, start_char=1, oov_char=2, index_from=3)\n",
    "        Docstring:\n",
    "        Loads IMDB dataset.\n",
    "\n",
    "        # Arguments\n",
    "            path: where to store the data (in `/.keras/dataset`)\n",
    "            nb_words: max number of words to include. Words are ranked\n",
    "                by how often they occur (in the training set) and only\n",
    "                the most frequent words are kept\n",
    "            skip_top: skip the top N most frequently occuring words\n",
    "                (which may not be informative).\n",
    "            maxlen: truncate sequences after this length.\n",
    "            seed: random seed for sample shuffling.\n",
    "            start_char: The start of a sequence will be marked with this character.\n",
    "                Set to 1 because 0 is usually the padding character.\n",
    "            oov_char: words that were cut out because of the `nb_words`\n",
    "                or `skip_top` limit will be replaced with this character.\n",
    "            index_from: index actual words with this index and higher.\n",
    "\n",
    "        Note that the 'out of vocabulary' character is only used for\n",
    "        words that were present in the training set but are not included\n",
    "        because they're not making the `nb_words` cut here.\n",
    "        Words that were not seen in the trining set but are in the test set\n",
    "        have simply been skipped."
   ]
  },
  {
   "cell_type": "code",
   "execution_count": 3,
   "metadata": {},
   "outputs": [
    {
     "name": "stderr",
     "output_type": "stream",
     "text": [
      "/home/infinitemonkeys/anaconda3/lib/python3.5/site-packages/keras/datasets/imdb.py:45: UserWarning: The `nb_words` argument in `load_data` has been renamed `num_words`.\n",
      "  warnings.warn('The `nb_words` argument in `load_data` '\n"
     ]
    }
   ],
   "source": [
    "top_words = 5000\n",
    "max_len=500\n",
    "(X_train, y_train), (X_test, y_test) = imdb.load_data(path=\"imdb_full.pkl\",\n",
    "                                                         nb_words=top_words, #usamos 1000 palabras más frecuentes\",\n",
    "                                                          skip_top=0,\n",
    "                                                          maxlen=max_len, #tomamos secuencias de hasta 500 palabras\",\n",
    "                                                          seed=113,\n",
    "                                                          start_char=1,\n",
    "                                                          oov_char=2,\n",
    "                                                         index_from=3)"
   ]
  },
  {
   "cell_type": "markdown",
   "metadata": {},
   "source": [
    "Elegimos usar las 1000 palabras más frecuentes y secuencias de longitud 500.\n",
    "\n",
    "X_train,X_test son arrays formados por listas de longitud hasta 500, hay 25000 listas"
   ]
  },
  {
   "cell_type": "code",
   "execution_count": 5,
   "metadata": {},
   "outputs": [
    {
     "data": {
      "text/plain": [
       "499"
      ]
     },
     "execution_count": 5,
     "metadata": {},
     "output_type": "execute_result"
    }
   ],
   "source": [
    "long_crit=np.array([len(X_train[k]) for k in range(X_train.shape[0])])\n",
    "np.max(long_crit)"
   ]
  },
  {
   "cell_type": "code",
   "execution_count": 6,
   "metadata": {},
   "outputs": [
    {
     "data": {
      "image/png": "[encoded data removed]",
      "text/plain": [
       "<matplotlib.figure.Figure at 0x7f6144cc8d68>"
      ]
     },
     "metadata": {},
     "output_type": "display_data"
    }
   ],
   "source": [
    "import seaborn as sns\n",
    "%matplotlib inline\n",
    "\n",
    "sns.distplot(long_crit);"
   ]
  },
  {
   "cell_type": "markdown",
   "metadata": {},
   "source": [
    "Usando el preprocesamiento de keras completamos las secuencias con valores irrelevantes introducidos previamente  (0 es el símbolo elegido), hasta que todas tienen longitud 500."
   ]
  },
  {
   "cell_type": "code",
   "execution_count": 7,
   "metadata": {
    "collapsed": true
   },
   "outputs": [],
   "source": [
    "X_train = sequence.pad_sequences(X_train, padding='pre',maxlen=max_len)\n",
    "X_test = sequence.pad_sequences(X_test, padding='pre',maxlen=max_len)"
   ]
  },
  {
   "cell_type": "code",
   "execution_count": 8,
   "metadata": {},
   "outputs": [
    {
     "data": {
      "text/plain": [
       "array([   0,    0,    0,    0,    0,    0,    0,    0,    0,    0,    0,\n",
       "          0,    0,    0,    0,    0,    0,    0,    0,    0,    0,    0,\n",
       "          0,    0,    0,    0,    0,    0,    0,    0,    0,    0,    0,\n",
       "          0,    0,    0,    0,    0,    0,    0,    0,    0,    0,    0,\n",
       "          0,    0,    0,    0,    0,    0,    0,    0,    0,    0,    0,\n",
       "          0,    0,    0,    0,    0,    0,    0,    0,    0,    0,    0,\n",
       "          0,    0,    0,    0,    0,    0,    0,    0,    0,    0,    0,\n",
       "          0,    0,    0,    0,    0,    0,    1, 4078,    2,    9,  448,\n",
       "        725,    4,    2,  241,    2,  241,   38,  111,    2,  500,   40,\n",
       "         91,  374,  500,  679,  102,   13,   62,  135,    4, 2159,   92,\n",
       "          2,   83,    6,  275, 3449,   66,   73,    5,   15,  271,   18,\n",
       "         14,   31,   99, 2149,   10,   10,  225,    6,  184,  196,    2,\n",
       "         63, 2568,    5,  732,    4,  863,   18,    4,   65,    5,    4,\n",
       "       1397, 1111,   23,   63,    6,  564, 4892,    2,    5,   27,  476,\n",
       "        577,    2,    2,    2,    5,  492,    2,    2,    2,  216,    8,\n",
       "        847,   83,    4,    2,   92,  168,   32,   99, 2575,    5,  515,\n",
       "        195,  481, 2017,    9,  348,   44,    4,    2,   23,    4, 1111,\n",
       "          8,  789,    2,  280,    4,    2,  517,    2,   10,   10, 1958,\n",
       "          5, 1364,  183,  380,    8,  140,    2,    5,  263,    2,  140,\n",
       "         23,    6, 1973, 3318,  187,    4, 3450,    8, 1974,  618,   51,\n",
       "          9, 1448,   23,   14,    2, 1111,   19,   94,  680,    2,   21,\n",
       "         11,  882,   25,   80,   24, 1414,   19,  803,  170,   23,   17,\n",
       "          2,    5, 2447, 2953,   79, 1376,   11,    8,    2,    4,  114,\n",
       "         60,   53,   51,   16,   66, 3742,   12,   83,    4,    2,    7,\n",
       "         78,  212,   26,   94,    2, 1815, 2611,   46,    7,    4,    2,\n",
       "        388,   63,   43, 2266,    2,    2,   33,   94, 2099, 3002,  366,\n",
       "         45, 1852,   76,  303,   45,   31,  155,  269,    8,  216,   56,\n",
       "          5,  984,  142, 1393,   21,  160,  155,  399,   12, 4521,    5,\n",
       "         19,    2, 2380,   10,   10,  466,   12,    2,   11,  467, 1552,\n",
       "        234,   13,  104,   45,    6,  189,   20,    2,    8,   28,   15,\n",
       "         17,    6,    2,    2,   12,  408,   15,  220,  107,  534,  235,\n",
       "         19,   94,  550,    2,    8,  376,   51,   12,  494,    8,  183,\n",
       "        895,    8, 1261,   56, 1841,    4,  236,  891,  234,   21,   45,\n",
       "          6,  356,  420,    7,   99,  117,   99,  522,   10,   10,   51,\n",
       "       3220,    4,   20,    9,   89,   12, 1443,    2,    5,   94, 3411,\n",
       "         33,    4,  130,  174,   14,    9,    6, 1141, 2701,  343,    8,\n",
       "        353,    5,    2,    6, 1573,  606,  189,   20,   83,  142,    6,\n",
       "        117,  227, 1727,   11,    4,  440,    7,    2,   35,  311,   12,\n",
       "        679,   46,  247,    2,   21,  889,    6,   78,    2,   17,  490,\n",
       "        235, 4563,  643,   50,   26,  107,  771,    6, 1009,   80,   97,\n",
       "         25,  235,   12,  345,    2,    4,   20,    8,    6,  906,  651,\n",
       "         42, 1568,   25,   19,   15,    2,  547,  472, 4078,    2,    2,\n",
       "         53,    8,    4, 1569,   10,   10,    4, 1907, 1698,   80,   30,\n",
       "         94,  627,   19,   94,  361,    7,  641, 3788,    5,    2,   21,\n",
       "         13,   80,   30,   15, 3759,   45,  131,   24,  290,    4,   58,\n",
       "         38,  128,    8,  798,   14], dtype=int32)"
      ]
     },
     "execution_count": 8,
     "metadata": {},
     "output_type": "execute_result"
    }
   ],
   "source": [
    "X_train[0]"
   ]
  },
  {
   "cell_type": "markdown",
   "metadata": {},
   "source": [
    "### Aplicamos LSTM\n",
    "\n",
    "Vamos a generar ahora una LSTM con dos capas:\n",
    "   - `Embedding` - Es la capa que transforma los índices enteros en vectores densos de longitud 32 para que las capas posteriores puedan procesarlos.\n",
    "   - `LSTM` - Es la capa que trabaja en la clasificación. Ponemos 200 neuronas.\n",
    "   - Una única neurona de salida con un sigmoide ya que estamos ante una clasificación 0-1 (crítica positiva, crítica negativa)"
   ]
  },
  {
   "cell_type": "code",
   "execution_count": 9,
   "metadata": {
    "collapsed": true
   },
   "outputs": [],
   "source": [
    "embedding_vector_length=32\n",
    "\n",
    "def modelLSTM(n_lstm):\n",
    "    model = Sequential()\n",
    "    model.add(Embedding(top_words, embedding_vector_length, input_length=max_len))\n",
    "    model.add(LSTM(n_lstm))\n",
    "    model.add(Dense(1, activation='sigmoid'))\n",
    "    model.compile(loss='binary_crossentropy', optimizer='adam', metrics=['accuracy'])\n",
    "    return model"
   ]
  },
  {
   "cell_type": "code",
   "execution_count": 10,
   "metadata": {
    "collapsed": true
   },
   "outputs": [],
   "source": [
    "rnn=modelLSTM(100)"
   ]
  },
  {
   "cell_type": "code",
   "execution_count": 11,
   "metadata": {},
   "outputs": [
    {
     "name": "stdout",
     "output_type": "stream",
     "text": [
      "_________________________________________________________________\n",
      "Layer (type)                 Output Shape              Param #   \n",
      "=================================================================\n",
      "embedding_1 (Embedding)      (None, 500, 32)           160000    \n",
      "_________________________________________________________________\n",
      "lstm_1 (LSTM)                (None, 100)               53200     \n",
      "_________________________________________________________________\n",
      "dense_1 (Dense)              (None, 1)                 101       \n",
      "=================================================================\n",
      "Total params: 213,301\n",
      "Trainable params: 213,301\n",
      "Non-trainable params: 0\n",
      "_________________________________________________________________\n"
     ]
    }
   ],
   "source": [
    "rnn.summary()"
   ]
  },
  {
   "cell_type": "code",
   "execution_count": 12,
   "metadata": {},
   "outputs": [
    {
     "name": "stderr",
     "output_type": "stream",
     "text": [
      "/home/infinitemonkeys/anaconda3/lib/python3.5/site-packages/keras/models.py:874: UserWarning: The `nb_epoch` argument in `fit` has been renamed `epochs`.\n",
      "  warnings.warn('The `nb_epoch` argument in `fit` '\n"
     ]
    },
    {
     "name": "stdout",
     "output_type": "stream",
     "text": [
      "Train on 25000 samples, validate on 20947 samples\n",
      "Epoch 1/3\n",
      "25000/25000 [==============================] - 156s 6ms/step - loss: 0.4467 - acc: 0.7904 - val_loss: 0.3506 - val_acc: 0.8508\n",
      "Epoch 2/3\n",
      "25000/25000 [==============================] - 155s 6ms/step - loss: 0.3162 - acc: 0.8694 - val_loss: 0.3167 - val_acc: 0.8714\n",
      "Epoch 3/3\n",
      "25000/25000 [==============================] - 157s 6ms/step - loss: 0.2475 - acc: 0.9032 - val_loss: 0.3024 - val_acc: 0.8722\n"
     ]
    },
    {
     "data": {
      "text/plain": [
       "<keras.callbacks.History at 0x7f6113f816a0>"
      ]
     },
     "execution_count": 12,
     "metadata": {},
     "output_type": "execute_result"
    }
   ],
   "source": [
    "#entrenamos el modelo\n",
    "rnn.fit(X_train, y_train, validation_data=(X_test, y_test), nb_epoch=3, batch_size=64)"
   ]
  },
  {
   "cell_type": "code",
   "execution_count": 15,
   "metadata": {},
   "outputs": [
    {
     "name": "stdout",
     "output_type": "stream",
     "text": [
      "20947/20947 [==============================] - 47s 2ms/step\n",
      "Accuracy: 87.22%\n"
     ]
    }
   ],
   "source": [
    "scores = rnn.evaluate(X_test, y_test, verbose=1)\n",
    "print(\"Accuracy: %.2f%%\" % (scores[1]*100))"
   ]
  },
  {
   "cell_type": "markdown",
   "metadata": {},
   "source": [
    "Con la primera prueba usando LSTM nos ubicamos en una precisión del 86.67% en el dataset, del artículo https://cs224d.stanford.edu/reports/HongJames.pdf sabemos que precisiones desarrolladas son\n",
    "\n",
    "<img src='imdbresults.png'>"
   ]
  },
  {
   "cell_type": "markdown",
   "metadata": {},
   "source": [
    "# GRU"
   ]
  },
  {
   "cell_type": "code",
   "execution_count": 38,
   "metadata": {
    "collapsed": true
   },
   "outputs": [],
   "source": [
    "?GRU"
   ]
  },
  {
   "cell_type": "code",
   "execution_count": 34,
   "metadata": {
    "collapsed": true
   },
   "outputs": [],
   "source": [
    "def modelGRU(n_gru):\n",
    "    model = Sequential()\n",
    "    model.add(Embedding(top_words, embedding_vector_length, input_length=max_len))\n",
    "    model.add(GRU(n_gru))\n",
    "    model.add(Dense(1, activation='sigmoid'))\n",
    "    model.compile(loss='binary_crossentropy', optimizer='adam', metrics=['accuracy'])\n",
    "    return model"
   ]
  },
  {
   "cell_type": "code",
   "execution_count": 35,
   "metadata": {},
   "outputs": [
    {
     "name": "stdout",
     "output_type": "stream",
     "text": [
      "____________________________________________________________________________________________________\n",
      "Layer (type)                     Output Shape          Param #     Connected to                     \n",
      "====================================================================================================\n",
      "embedding_4 (Embedding)          (None, 500, 32)       160000      embedding_input_4[0][0]          \n",
      "____________________________________________________________________________________________________\n",
      "gru_1 (GRU)                      (None, 100)           39900       embedding_4[0][0]                \n",
      "____________________________________________________________________________________________________\n",
      "dense_3 (Dense)                  (None, 1)             101         gru_1[0][0]                      \n",
      "====================================================================================================\n",
      "Total params: 200,001\n",
      "Trainable params: 200,001\n",
      "Non-trainable params: 0\n",
      "____________________________________________________________________________________________________\n"
     ]
    }
   ],
   "source": [
    "rnnGRU=modelGRU(100)\n",
    "rnnGRU.summary()"
   ]
  },
  {
   "cell_type": "code",
   "execution_count": 36,
   "metadata": {},
   "outputs": [
    {
     "name": "stdout",
     "output_type": "stream",
     "text": [
      "Train on 25000 samples, validate on 20947 samples\n",
      "Epoch 1/3\n",
      "25000/25000 [==============================] - 157s - loss: 0.4505 - acc: 0.7787 - val_loss: 0.3389 - val_acc: 0.8549\n",
      "Epoch 2/3\n",
      "25000/25000 [==============================] - 157s - loss: 0.2878 - acc: 0.8832 - val_loss: 0.3074 - val_acc: 0.8739\n",
      "Epoch 3/3\n",
      "25000/25000 [==============================] - 156s - loss: 0.2503 - acc: 0.9020 - val_loss: 0.3231 - val_acc: 0.8775\n"
     ]
    },
    {
     "data": {
      "text/plain": [
       "<keras.callbacks.History at 0x7fbf09c29be0>"
      ]
     },
     "execution_count": 36,
     "metadata": {},
     "output_type": "execute_result"
    }
   ],
   "source": [
    "#entrenamos el modelo\n",
    "rnnGRU.fit(X_train, y_train, validation_data=(X_test, y_test), nb_epoch=3, batch_size=64)"
   ]
  },
  {
   "cell_type": "code",
   "execution_count": 14,
   "metadata": {},
   "outputs": [
    {
     "ename": "NameError",
     "evalue": "name 'rnnGRU' is not defined",
     "output_type": "error",
     "traceback": [
      "\u001b[0;31m---------------------------------------------------------------------------\u001b[0m",
      "\u001b[0;31mNameError\u001b[0m                                 Traceback (most recent call last)",
      "\u001b[0;32m<ipython-input-14-a4d6b7df1c94>\u001b[0m in \u001b[0;36m<module>\u001b[0;34m()\u001b[0m\n\u001b[0;32m----> 1\u001b[0;31m \u001b[0mscores\u001b[0m \u001b[0;34m=\u001b[0m \u001b[0mrnnGRU\u001b[0m\u001b[0;34m.\u001b[0m\u001b[0mevaluate\u001b[0m\u001b[0;34m(\u001b[0m\u001b[0mX_test\u001b[0m\u001b[0;34m,\u001b[0m \u001b[0my_test\u001b[0m\u001b[0;34m,\u001b[0m \u001b[0mverbose\u001b[0m\u001b[0;34m=\u001b[0m\u001b[0;36m1\u001b[0m\u001b[0;34m)\u001b[0m\u001b[0;34m\u001b[0m\u001b[0m\n\u001b[0m\u001b[1;32m      2\u001b[0m \u001b[0mprint\u001b[0m\u001b[0;34m(\u001b[0m\u001b[0;34m\"Accuracy: %.2f%%\"\u001b[0m \u001b[0;34m%\u001b[0m \u001b[0;34m(\u001b[0m\u001b[0mscores\u001b[0m\u001b[0;34m[\u001b[0m\u001b[0;36m1\u001b[0m\u001b[0;34m]\u001b[0m\u001b[0;34m*\u001b[0m\u001b[0;36m100\u001b[0m\u001b[0;34m)\u001b[0m\u001b[0;34m)\u001b[0m\u001b[0;34m\u001b[0m\u001b[0m\n",
      "\u001b[0;31mNameError\u001b[0m: name 'rnnGRU' is not defined"
     ]
    }
   ],
   "source": [
    "scores = rnnGRU.evaluate(X_test, y_test, verbose=1)\n",
    "print(\"Accuracy: %.2f%%\" % (scores[1]*100))"
   ]
  },
  {
   "cell_type": "markdown",
   "metadata": {},
   "source": [
    "### GRU regularizado con dropout\n",
    "\n",
    "Usando celdas GRU hemos tardado menos y hemos mejorado ligeramente la precisión. Vamos a probar una versión regularizada del algoritmo con más epochs y neuronas para observar si mejora la precisión:"
   ]
  },
  {
   "cell_type": "code",
   "execution_count": 40,
   "metadata": {
    "collapsed": true
   },
   "outputs": [],
   "source": [
    "def modelGRUdrop(n_gru,p_drop_W,p_drop_U):\n",
    "    model = Sequential()\n",
    "    model.add(Embedding(top_words, embedding_vector_length, input_length=max_len))\n",
    "    model.add(GRU(n_gru,dropout_W=p_drop_W,dropout_U=p_drop_U))\n",
    "    model.add(Dense(1, activation='sigmoid'))\n",
    "    model.compile(loss='binary_crossentropy', optimizer='adam', metrics=['accuracy'])\n",
    "    return model"
   ]
  },
  {
   "cell_type": "code",
   "execution_count": 45,
   "metadata": {
    "collapsed": true
   },
   "outputs": [],
   "source": [
    "rnnGRUdrop=modelGRUdrop(200,0.1,0.1)"
   ]
  },
  {
   "cell_type": "code",
   "execution_count": 46,
   "metadata": {},
   "outputs": [
    {
     "name": "stdout",
     "output_type": "stream",
     "text": [
      "Train on 25000 samples, validate on 20947 samples\n",
      "Epoch 1/3\n",
      "25000/25000 [==============================] - 174s - loss: 0.5104 - acc: 0.7394 - val_loss: 0.4096 - val_acc: 0.8169\n",
      "Epoch 2/3\n",
      "25000/25000 [==============================] - 173s - loss: 0.3730 - acc: 0.8413 - val_loss: 0.3544 - val_acc: 0.8564\n",
      "Epoch 3/3\n",
      "25000/25000 [==============================] - 173s - loss: 0.2897 - acc: 0.8849 - val_loss: 0.2885 - val_acc: 0.8845\n"
     ]
    },
    {
     "data": {
      "text/plain": [
       "<keras.callbacks.History at 0x7fbf0833f9b0>"
      ]
     },
     "execution_count": 46,
     "metadata": {},
     "output_type": "execute_result"
    }
   ],
   "source": [
    "#entrenamos el modelo\n",
    "rnnGRUdrop.fit(X_train, y_train, validation_data=(X_test, y_test), nb_epoch=3, batch_size=64)"
   ]
  },
  {
   "cell_type": "code",
   "execution_count": 47,
   "metadata": {},
   "outputs": [
    {
     "name": "stdout",
     "output_type": "stream",
     "text": [
      "20947/20947 [==============================] - 68s    \n",
      "Accuracy: 88.45%\n"
     ]
    }
   ],
   "source": [
    "scores = rnnGRUdrop.evaluate(X_test, y_test, verbose=1)\n",
    "print(\"Accuracy: %.2f%%\" % (scores[1]*100))"
   ]
  },
  {
   "cell_type": "markdown",
   "metadata": {},
   "source": [
    "La regularización ha mejorado la precisión"
   ]
  },
  {
   "cell_type": "code",
   "execution_count": 8,
   "metadata": {
    "collapsed": true
   },
   "outputs": [],
   "source": [
    "def modelGRUdrop2(n_gru,n_dense,p_drop_W,p_drop_U):\n",
    "    model = Sequential()\n",
    "    model.add(Embedding(top_words, embedding_vector_length, input_length=max_len))\n",
    "    model.add(GRU(n_gru,dropout_W=p_drop_W,dropout_U=p_drop_U))\n",
    "    model.add(Dense(n_dense, activation='relu'))\n",
    "    model.add(Dense(1, activation='sigmoid'))\n",
    "    model.compile(loss='binary_crossentropy', optimizer='adam', metrics=['accuracy'])\n",
    "    return model"
   ]
  },
  {
   "cell_type": "code",
   "execution_count": 11,
   "metadata": {
    "collapsed": true
   },
   "outputs": [],
   "source": [
    "rnnGRUdrop = modelGRUdrop2(200,200,0.1,0.1)"
   ]
  },
  {
   "cell_type": "code",
   "execution_count": 13,
   "metadata": {},
   "outputs": [
    {
     "name": "stdout",
     "output_type": "stream",
     "text": [
      "Train on 25000 samples, validate on 20947 samples\n",
      "Epoch 1/5\n",
      "25000/25000 [==============================] - 164s - loss: 0.5014 - acc: 0.7514 - val_loss: 0.3890 - val_acc: 0.8248\n",
      "Epoch 2/5\n",
      "25000/25000 [==============================] - 162s - loss: 0.3597 - acc: 0.8442 - val_loss: 0.4549 - val_acc: 0.7809\n",
      "Epoch 3/5\n",
      "25000/25000 [==============================] - 161s - loss: 0.2682 - acc: 0.8923 - val_loss: 0.3090 - val_acc: 0.8704\n",
      "Epoch 4/5\n",
      "25000/25000 [==============================] - 161s - loss: 0.2017 - acc: 0.9208 - val_loss: 0.2826 - val_acc: 0.8854\n",
      "Epoch 5/5\n",
      "25000/25000 [==============================] - 161s - loss: 0.1548 - acc: 0.9405 - val_loss: 0.3029 - val_acc: 0.8906\n"
     ]
    },
    {
     "data": {
      "text/plain": [
       "<keras.callbacks.History at 0x7f79b0ec1198>"
      ]
     },
     "execution_count": 13,
     "metadata": {},
     "output_type": "execute_result"
    }
   ],
   "source": [
    "rnnGRUdrop.fit(X_train, y_train, validation_data=(X_test, y_test), \n",
    "               nb_epoch=5, batch_size=64)"
   ]
  },
  {
   "cell_type": "code",
   "execution_count": 14,
   "metadata": {},
   "outputs": [
    {
     "name": "stdout",
     "output_type": "stream",
     "text": [
      "20947/20947 [==============================] - 62s    \n",
      "Accuracy: 89.06%\n"
     ]
    }
   ],
   "source": [
    "scores = rnnGRUdrop.evaluate(X_test, y_test, verbose=1)\n",
    "print(\"Accuracy: %.2f%%\" % (scores[1]*100))"
   ]
  }
 ],
 "metadata": {
  "anaconda-cloud": {},
  "hide_input": false,
  "kernelspec": {
   "display_name": "Python [conda root]",
   "language": "python",
   "name": "conda-root-py"
  },
  "language_info": {
   "codemirror_mode": {
    "name": "ipython",
    "version": 3
   },
   "file_extension": ".py",
   "mimetype": "text/x-python",
   "name": "python",
   "nbconvert_exporter": "python",
   "pygments_lexer": "ipython3",
   "version": "3.5.3"
  },
  "toc": {
   "colors": {
    "hover_highlight": "#DAA520",
    "navigate_num": "#000000",
    "navigate_text": "#333333",
    "running_highlight": "#FF0000",
    "selected_highlight": "#FFD700",
    "sidebar_border": "#EEEEEE",
    "wrapper_background": "#FFFFFF"
   },
   "moveMenuLeft": true,
   "nav_menu": {
    "height": "117px",
    "width": "252px"
   },
   "navigate_menu": true,
   "number_sections": true,
   "sideBar": true,
   "threshold": 4,
   "toc_cell": false,
   "toc_section_display": "block",
   "toc_window_display": false,
   "widenNotebook": false
  }
 },
 "nbformat": 4,
 "nbformat_minor": 1
}
